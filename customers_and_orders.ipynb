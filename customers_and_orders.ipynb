{
  "cells": [
    {
      "cell_type": "markdown",
      "metadata": {
        "id": "view-in-github",
        "colab_type": "text"
      },
      "source": [
        "<a href=\"https://colab.research.google.com/github/RuriEnciso/Practica_canal/blob/main/Copia_de_customers_and_orders.ipynb\" target=\"_parent\"><img src=\"https://colab.research.google.com/assets/colab-badge.svg\" alt=\"Open In Colab\"/></a>"
      ]
    },
    {
      "cell_type": "markdown",
      "metadata": {
        "id": "piiX_CRNFYUi"
      },
      "source": [
        "# Technical Challenge ! Custiomers and Orders - The lifeblood of any business!\n",
        "\n",
        "This notebook depends on two data files: customers.scv and orders.csv. These files are hosted in the cloud (or Github), so for simplicity, we are providing you with the code to download and save the two files in a folder called 'sample_data' which lives within this notebook session (not on your local computer nor Google Drive).\n",
        "\n",
        "![sample_data folder in notebook session](https://raw.githubusercontent.com/anyoneai/notebooks/main/customers_and_orders/images/sample_data_folder.png)\n",
        "\n",
        "Please execute the first code snippet before moving to the rest of the exercise as this code will import the data from the files for you to be able to execute the rest of the exercise.\n",
        "\n",
        "Remember as we said in the previous lecture, you have to save this notebook into your Google Drive by going to menu File/Save a Copy In Drive, or clicking in the button \"Copy to Drive\". This way, you will not lose any work you've done and the file will persist with your latest changes in your Google Drive. Also we recommend you to rename your .ipynb in your Google Drive, so you can easily find it in the future."
      ]
    },
    {
      "cell_type": "code",
      "execution_count": 2,
      "metadata": {
        "colab": {
          "base_uri": "https://localhost:8080/"
        },
        "id": "MWpVO242FQHC",
        "outputId": "65ecdf74-027d-47d3-d42e-824cfb3a0609"
      },
      "outputs": [
        {
          "output_type": "stream",
          "name": "stdout",
          "text": [
            "Customers and orders CSV files have been added './sample_data'\n"
          ]
        }
      ],
      "source": [
        "import requests\n",
        "\n",
        "def import_data_files():\n",
        "  r = requests.get('https://raw.githubusercontent.com/anyoneai/notebooks/main/customers_and_orders/data/customers.csv')\n",
        "  with open('./sample_data/customers.csv', 'wb') as f:\n",
        "    f.write(r.content)\n",
        "\n",
        "  r = requests.get('https://raw.githubusercontent.com/anyoneai/notebooks/main/customers_and_orders/data/orders.csv')\n",
        "  with open('./sample_data/orders.csv', 'wb') as f:\n",
        "    f.write(r.content)\n",
        "  \n",
        "import_data_files()\n",
        "print(\"Customers and orders CSV files have been added './sample_data'\")"
      ]
    },
    {
      "cell_type": "markdown",
      "metadata": {
        "id": "JQAduY-RWKyB"
      },
      "source": [
        "# Exercise 1: Processing Customers data (difficulty medium)\n",
        "\n",
        "The sample customer data in 'customers.csv' file has just 5 columns: CustomerId, First Name, Last Name, City and State\n",
        "\n",
        "![Data sample](https://raw.githubusercontent.com/anyoneai/notebooks/main/customers_and_orders/images/customers.png)\n",
        "\n",
        "We strongly recommend that you complete from the [Prep Course: Intro to Python](https://colab.research.google.com/github/anyoneai/notebooks/blob/main/python3_crash_course.ipynb) the following section:\n",
        "- Section 7: File I/O (to understand how to read CSV file) \n",
        "- Section 6: For Loop (to navigate the contents of the CSV file)\n",
        "- Section 5: Tuples, Lists, and Dictionaries (to manipulate the data of the CSV file)\n",
        "\n",
        "With this, we hope you can complete this exercise successfully. Although if you want to solve this with libraries or any other way, you are welcome to do it your way.\n",
        "\n",
        "*Hint:* We advise you to take a look at the data before you start.\n",
        "**if you want to manually take a look at the data before you start, please see the content of the data [here](https://github.com/anyoneai/notebooks/blob/main/customers_and_orders/data/customers.csv).\n",
        "\n",
        "*Hint*: There are many ways to do this exercise you can do your own, although here's some help. You can solve this exercise reading and parsing CSV files, structuring data into dictionaries, and using for loops to navigate the contents\n",
        "\n",
        "*Hint*: Also, keep in mind that data might not be clean and you might have to figure out how to deal with that data from the code, without having to modify the data source.\n",
        "\n",
        "Below are the 5 questions you'll have to answer to pass the evaluation:"
      ]
    },
    {
      "cell_type": "markdown",
      "metadata": {
        "id": "kJq7S8sBfbOW"
      },
      "source": [
        "**Question 1:** How many customers are in the file?\n",
        "(as help, we have added some comments and starter code to help you structure the solution)"
      ]
    },
    {
      "cell_type": "code",
      "execution_count": 29,
      "metadata": {
        "colab": {
          "base_uri": "https://localhost:8080/"
        },
        "id": "oMnUFBFb2RUb",
        "outputId": "cc06dc53-2ab2-440d-fd54-4eec0f215638"
      },
      "outputs": [
        {
          "output_type": "stream",
          "name": "stdout",
          "text": [
            "   CustomerID    FirstName      LastName         City State\n",
            "0        6192        Randi    Piedrahita  Canoga Park    CA\n",
            "1     5100595  Christopher       Abraham   Loma Linda    CA\n",
            "2     1902451        Elvis      Jauregui  Los Angeles    CA\n",
            "3     1906377         Jose  Mota-Sanchez       Downey    CA\n",
            "4     1902406      Scott        McCrorie   Long Beach    CA\n",
            "602\n",
            "All done!\n"
          ]
        }
      ],
      "source": [
        "from os.path import exists\n",
        "import csv\n",
        "\n",
        "# check if file can be found and open the file\n",
        "datafile = \"./sample_data/customers.csv\"\n",
        "if not exists(datafile):\n",
        "  raise SystemExit(\"You should run the first code cell and download the dataset files!\")\n",
        "\n",
        "# customers file is in the sample_data folder and can be opened.\n",
        "# Using csv reader is one way of dealing with the file \n",
        "# but it's up to you how you want to proceed\n",
        "with open(datafile, 'r') as fl:\n",
        "  csvreader = csv.reader(fl, delimiter=',')\n",
        "\n",
        "  # loop through the rows and count etc. THE REST IS UP TO YOU!\n",
        "import pandas as pd\n",
        "import numpy as np\n",
        "\n",
        "dt = pd.read_csv(datafile)\n",
        "\n",
        "print(dt.head())\n",
        "print(dt.CustomerID.count())\n",
        "\n",
        "print(\"All done!\")"
      ]
    },
    {
      "cell_type": "markdown",
      "metadata": {
        "id": "uffBnNgz_570"
      },
      "source": [
        "**Question 2:** In how many different states do the customers live in?"
      ]
    },
    {
      "cell_type": "code",
      "execution_count": 32,
      "metadata": {
        "id": "Bi_yid0sMe3-",
        "outputId": "52093527-04ce-440b-e401-e12e790a14ed",
        "colab": {
          "base_uri": "https://localhost:8080/"
        }
      },
      "outputs": [
        {
          "output_type": "stream",
          "name": "stdout",
          "text": [
            "The customers live in:  14  states\n"
          ]
        }
      ],
      "source": [
        "# init vars\n",
        "states = dt.State\n",
        "states = pd.Series(states)\n",
        "states = states.apply(lambda x: str(x).upper().strip())\n",
        "# evaluate the contents of the file\n",
        "unique_states = states.unique()\n",
        "# unique_states.count()\n",
        "\n",
        "print(\"The customers live in: \",len(unique_states),\" states\")\n"
      ]
    },
    {
      "cell_type": "markdown",
      "metadata": {
        "id": "DC59SZYiMfNY"
      },
      "source": [
        "**Question 3** What is the state with most customers?"
      ]
    },
    {
      "cell_type": "code",
      "execution_count": 33,
      "metadata": {
        "id": "tfGU3w-OMhA9",
        "outputId": "b0463d33-8ddb-48d5-8c6d-84c8270c9a29",
        "colab": {
          "base_uri": "https://localhost:8080/"
        }
      },
      "outputs": [
        {
          "output_type": "stream",
          "name": "stdout",
          "text": [
            "The state with most customers is: \n",
            "('CA', 562)\n"
          ]
        }
      ],
      "source": [
        "# open file and init vars\n",
        "customers_state = {}\n",
        "for i in unique_states:\n",
        "  count = (dt['State'] == i).sum()\n",
        "  customers_state.update({i:count})\n",
        "# evaluate the contents of the file\n",
        "\n",
        "print('The state with most customers is: ')\n",
        "print(max(customers_state.items(), key=lambda x: x[1]))"
      ]
    },
    {
      "cell_type": "markdown",
      "metadata": {
        "id": "7mcM6cUAMhLB"
      },
      "source": [
        "**Question 4** What is the state with the least customers?"
      ]
    },
    {
      "cell_type": "code",
      "execution_count": 37,
      "metadata": {
        "id": "8T0Ka2RqMi3P",
        "outputId": "36d50011-797d-43b7-b274-6a375486efac",
        "colab": {
          "base_uri": "https://localhost:8080/"
        }
      },
      "outputs": [
        {
          "output_type": "stream",
          "name": "stdout",
          "text": [
            "dict_values([562, 6, 8, 3, 1, 1, 1, 3, 2, 3, 1, 2, 1, 1])\n",
            "There are 6 states with the least customers\n"
          ]
        }
      ],
      "source": [
        "# open file and init vars\n",
        "state_least = min(customers_state.items(), key=lambda x: x[1])\n",
        "state_least = state_least[1]\n",
        "print(customers_state.values())\n",
        "arr_states_values = customers_state.values()\n",
        "\n",
        "# evaluate the contents of the file\n",
        "flag = 0\n",
        "for i in arr_states_values:\n",
        "  if i == state_least:\n",
        "    flag += 1\n",
        "print(f'There are {flag} states with the least customers')"
      ]
    },
    {
      "cell_type": "markdown",
      "metadata": {
        "id": "h6fIy7hXHF6A"
      },
      "source": [
        "**Question 5:** What is the most common last name?"
      ]
    },
    {
      "cell_type": "code",
      "execution_count": 41,
      "metadata": {
        "id": "k8M1DmA75Km7",
        "colab": {
          "base_uri": "https://localhost:8080/"
        },
        "outputId": "22055431-5ec6-488a-e645-5145d569e9da"
      },
      "outputs": [
        {
          "output_type": "stream",
          "name": "stdout",
          "text": [
            "The most common last name is:  [('Smith', 8)]\n"
          ]
        }
      ],
      "source": [
        "# open file and init vars\n",
        "import collections as cl\n",
        "\n",
        "LastName_frequency = cl.Counter(dt.LastName)\n",
        "# evaluate the contents of the file\n",
        "print(\"The most common last name is: \", LastName_frequency.most_common(1)) "
      ]
    },
    {
      "cell_type": "markdown",
      "metadata": {
        "id": "YPRma1t9NoFk"
      },
      "source": [
        "# Exercise 2: Processing Orders data (difficulty high)\n",
        "\n",
        "The second sample files contains orders placed by customers from the first file. Be careful, this file has many rows and you most likely should not print the contents of the whole file. \n",
        "\n",
        "The file contains the following columns: CustomerID, OrderID, Date, OrderTotal, ProductName, Price\n",
        "\n",
        "![Data sample](https://raw.githubusercontent.com/anyoneai/notebooks/main/customers_and_orders/images/orders.png)\n",
        "\n",
        "*Hint:* We advise you to take a look at the data before you start.\n",
        "**if you want to manually take a look at the data before you start, please see the content of the data [here](https://raw.githubusercontent.com/anyoneai/notebooks/main/customers_and_orders/data/orders.csv).\n",
        "\n",
        "*Hint*: There are many ways to do this exercise you can do your own, although here's some help. You can solve this exercise reading and parsing CSV files, structuring data into dictionaries, and using for loops to navigate the contents\n",
        "\n",
        "*Hint*: Also, the data is not clean and you will have to figure out how to deal with that data from the code, without having to modify the data source.\n",
        "\n",
        "\n",
        "\n",
        "**Question #1:** How many unique orders are in the orders.csv file?\n",
        "\n",
        "**Question #2:** What is the average number of items per order (rounded to two decimal places)?\n",
        "\n",
        "**Question #3:** What is the highest number of items per order?\n",
        "\n",
        "**Question #4:** What is the number of orders placed in October 2021?\n",
        "\n",
        "**Question #5:** Which customer spent the most amount of money in 2021?\n",
        "\n",
        "**Question #6:** Historically, what is the best month for sales?\n",
        "\n",
        "Once you get your answers, remember to go back to the course and introduce them in the multiple choice quiz"
      ]
    },
    {
      "cell_type": "code",
      "execution_count": 20,
      "metadata": {
        "id": "8ipJTrfs5QVM",
        "colab": {
          "base_uri": "https://localhost:8080/"
        },
        "outputId": "7085edec-08a8-4ddf-f0a9-49df5b024ade"
      },
      "outputs": [
        {
          "output_type": "stream",
          "name": "stdout",
          "text": [
            "   CustomerID  OrderID                     Date  OrderTotal     ProductName  \\\n",
            "0        8091  7742581  2021-07-26 14:40:10.783        95.0             Z03   \n",
            "1      902139  7742778  2021-08-08 05:01:21.120        60.0        0844 A/C   \n",
            "2     2300266  7742593  2021-07-27 11:00:16.020       185.0             M07   \n",
            "3     2300266  7742593  2021-07-27 11:00:16.020       185.0             M09   \n",
            "4     5173013  7742609  2021-07-28 14:26:13.930       165.0            0324   \n",
            "5     5370671  7742618  2021-07-28 15:59:23.153       255.0             F06   \n",
            "6     5370671  7742618  2021-07-28 15:59:23.153       255.0             F08   \n",
            "7      703804  7742619  2021-07-28 15:59:53.560       235.0            1912   \n",
            "8     5173438  7742673  2021-08-02 11:50:07.360       105.0            0737   \n",
            "9     5100595  7742681  2021-08-02 12:52:26.117         0.0  Vendor ID Card   \n",
            "\n",
            "   Price  \n",
            "0   90.0  \n",
            "1   60.0  \n",
            "2   90.0  \n",
            "3   90.0  \n",
            "4  160.0  \n",
            "5  125.0  \n",
            "6  125.0  \n",
            "7  225.0  \n",
            "8  100.0  \n",
            "9   10.0  \n",
            "29294\n",
            "All done!\n"
          ]
        }
      ],
      "source": [
        "# open and evaluate orders.csv\n",
        "from os.path import exists\n",
        "import csv\n",
        "\n",
        "# check if file can be found and open the file\n",
        "second_datafile = \"./sample_data/orders.csv\"\n",
        "\n",
        "import pandas as pd\n",
        "import numpy as np\n",
        "\n",
        "dt = pd.read_csv(second_datafile)\n",
        "\n",
        "print(dt.head(10))\n",
        "print(dt.CustomerID.count())\n",
        "\n",
        "print(\"All done!\")\n"
      ]
    },
    {
      "cell_type": "code",
      "source": [
        "# Question #1: How many unique orders are in the orders.csv file?\n",
        "unique_orders = dt.OrderID.unique()\n",
        "unique_orders\n",
        "num_elements = unique_orders.shape[0]\n",
        "print(f\"there are {num_elements} unnique orders in orders.csv\")"
      ],
      "metadata": {
        "colab": {
          "base_uri": "https://localhost:8080/"
        },
        "id": "kwnG2OAvt2Hk",
        "outputId": "9d90e5c7-b52c-439c-b792-42acd83ed1d4"
      },
      "execution_count": 22,
      "outputs": [
        {
          "output_type": "stream",
          "name": "stdout",
          "text": [
            "there are 16672 unnique orders in orders.csv\n"
          ]
        }
      ]
    },
    {
      "cell_type": "code",
      "source": [
        "# Question #2: What is the average number of items per order (rounded to two decimal places)?\n",
        "\n",
        "num_items_by_order = dt.groupby('OrderID')['ProductName'].count()\n",
        "mean_items_by_order = round(num_items_by_order.mean(), 2)\n",
        "print(f\"The average number of items per ordes is: {mean_items_by_order}\")\n",
        "\n"
      ],
      "metadata": {
        "colab": {
          "base_uri": "https://localhost:8080/"
        },
        "id": "zETupIkBv7Yy",
        "outputId": "64daadf3-c58e-417d-9ce3-7d08d0e93575"
      },
      "execution_count": 23,
      "outputs": [
        {
          "output_type": "stream",
          "name": "stdout",
          "text": [
            "The average number of items per ordes is: 1.76\n"
          ]
        }
      ]
    },
    {
      "cell_type": "code",
      "source": [
        "# Question #3: What is the highest number of items per order?\n",
        "highest_number = num_items_by_order.max()\n",
        "print(f\"the highest number of items per order is: {highest_number}\")"
      ],
      "metadata": {
        "colab": {
          "base_uri": "https://localhost:8080/"
        },
        "id": "5j3edgyO3C8F",
        "outputId": "d0953bbc-ff52-4d3b-bf1b-791616b94a6d"
      },
      "execution_count": 25,
      "outputs": [
        {
          "output_type": "stream",
          "name": "stdout",
          "text": [
            "the highest number of items per order is: 35\n"
          ]
        }
      ]
    },
    {
      "cell_type": "code",
      "source": [
        "# Question #4: What is the number of orders placed in October 2021?\n",
        "dt['Date'] = pd.to_datetime(dt['Date'])\n",
        "october_orders = dt[(dt['Date'].dt.year == 2021) & (dt['Date'].dt.month == 10)]\n",
        "\n",
        "# Count the number of orders placed in october 2021\n",
        "num_october_orders = october_orders.shape[0]\n",
        "print(f'the nomber of orders placed in october is: {num_october_orders}')\n"
      ],
      "metadata": {
        "colab": {
          "base_uri": "https://localhost:8080/"
        },
        "id": "GAYiW--R5R_L",
        "outputId": "c8183872-32f7-4bf8-c561-00467046844f"
      },
      "execution_count": 26,
      "outputs": [
        {
          "output_type": "stream",
          "name": "stdout",
          "text": [
            "the nomber of orders placed in october is: 437\n"
          ]
        }
      ]
    },
    {
      "cell_type": "code",
      "source": [
        "# Question #5: Which customer spent the most amount of money in 2021?\n",
        "TwentyOne_orders = dt[(dt['Date'].dt.year == 2021)]\n",
        "amount_by_customer = TwentyOne_orders.groupby('CustomerID')['Price'].sum()\n",
        "top_customer = amount_by_customer.sort_values(ascending=False)\n",
        "top_customer.head(1)\n"
      ],
      "metadata": {
        "colab": {
          "base_uri": "https://localhost:8080/"
        },
        "id": "De32Y8rKuQao",
        "outputId": "ad7af0d8-b684-4684-e87a-42b5bde629a2"
      },
      "execution_count": 27,
      "outputs": [
        {
          "output_type": "execute_result",
          "data": {
            "text/plain": [
              "CustomerID\n",
              "5172443    7675.0\n",
              "Name: Price, dtype: float64"
            ]
          },
          "metadata": {},
          "execution_count": 27
        }
      ]
    },
    {
      "cell_type": "code",
      "source": [
        "# Question #6: Historically, what is the best month for sales?\n",
        "\n",
        "\n",
        "import matplotlib.pyplot as plt\n",
        "\n",
        "# Establecer la columna 'Date' como el índice\n",
        "dt.set_index('Date', inplace=True)\n",
        "\n",
        "# Agrupar los datos por mes y sumar el total de ventas\n",
        "monthly_sales = dt.resample('M').sum()\n",
        "\n",
        "# Time series Graph\n",
        "plt.figure(figsize=(10, 6))\n",
        "plt.plot(monthly_sales.index, monthly_sales['OrderTotal'])\n",
        "plt.xlabel('Mes')\n",
        "plt.ylabel('Total de Ventas')\n",
        "plt.title('Total de Ventas por Mes')\n",
        "plt.show()\n",
        "\n",
        "# the best month for sales \n",
        "max_sales_month = monthly_sales['OrderTotal'].idxmax()\n",
        "\n",
        "# return the month\n",
        "print(\"the best month for sales was:\", max_sales_month.strftime(\"%B %Y\"), \"with a total sales:\", monthly_sales.loc[max_sales_month]['OrderTotal'])\n",
        "\n",
        "\n"
      ],
      "metadata": {
        "id": "CNtRKK82eDyv",
        "colab": {
          "base_uri": "https://localhost:8080/",
          "height": 581
        },
        "outputId": "9c0535be-9b04-4919-8317-9c160a0066d1"
      },
      "execution_count": 28,
      "outputs": [
        {
          "output_type": "display_data",
          "data": {
            "text/plain": [
              "<Figure size 1000x600 with 1 Axes>"
            ],
            "image/png": "[encoded data removed]"
          },
          "metadata": {}
        },
        {
          "output_type": "stream",
          "name": "stdout",
          "text": [
            "the best month for sales was: January 2022 with a total sales: 172032.0\n"
          ]
        }
      ]
    },
    {
      "cell_type": "markdown",
      "metadata": {
        "id": "ie0JW4FAk6Os"
      },
      "source": [
        "# Finished!\n",
        "\n",
        "Hope this was not too difficult and slicing and dicing the datasets was some fun. Now head on back to the course and provide the answers to the questions from this exercise."
      ]
    }
  ],
  "metadata": {
    "colab": {
      "provenance": [],
      "include_colab_link": true
    },
    "kernelspec": {
      "display_name": "Python 3 (ipykernel)",
      "language": "python",
      "name": "python3"
    },
    "language_info": {
      "codemirror_mode": {
        "name": "ipython",
        "version": 3
      },
      "file_extension": ".py",
      "mimetype": "text/x-python",
      "name": "python",
      "nbconvert_exporter": "python",
      "pygments_lexer": "ipython3",
      "version": "3.9.9"
    }
  },
  "nbformat": 4,
  "nbformat_minor": 0
}
